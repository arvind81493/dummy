{
 "cells": [
  {
   "cell_type": "code",
   "execution_count": 1,
   "id": "31286477",
   "metadata": {},
   "outputs": [
    {
     "name": "stdout",
     "output_type": "stream",
     "text": [
      "hello worlde\n"
     ]
    }
   ],
   "source": [
    "print(\"hello worlde\")"
   ]
  },
  {
   "cell_type": "code",
   "execution_count": 2,
   "id": "b13ddb27",
   "metadata": {},
   "outputs": [
    {
     "name": "stdout",
     "output_type": "stream",
     "text": [
      "arviond\n"
     ]
    }
   ],
   "source": [
    "var=input(\"what is your name\")\n",
    "print(var)"
   ]
  },
  {
   "cell_type": "code",
   "execution_count": 3,
   "id": "032ce72b",
   "metadata": {},
   "outputs": [
    {
     "data": {
      "text/plain": [
       "float"
      ]
     },
     "execution_count": 3,
     "metadata": {},
     "output_type": "execute_result"
    }
   ],
   "source": [
    "a =2.14\n",
    "type(a)"
   ]
  },
  {
   "cell_type": "code",
   "execution_count": 4,
   "id": "d7549404",
   "metadata": {},
   "outputs": [
    {
     "data": {
      "text/plain": [
       "'2.14'"
      ]
     },
     "execution_count": 4,
     "metadata": {},
     "output_type": "execute_result"
    }
   ],
   "source": [
    "str(a)"
   ]
  },
  {
   "cell_type": "code",
   "execution_count": 5,
   "id": "2f915662",
   "metadata": {},
   "outputs": [
    {
     "data": {
      "text/plain": [
       "'Arvind_kumar'"
      ]
     },
     "execution_count": 5,
     "metadata": {},
     "output_type": "execute_result"
    }
   ],
   "source": [
    "name=\"Arvind_kumar\"\n",
    "name.strip(\"_\")\n",
    "name"
   ]
  }
 ],
 "metadata": {
  "kernelspec": {
   "display_name": "base",
   "language": "python",
   "name": "python3"
  },
  "language_info": {
   "codemirror_mode": {
    "name": "ipython",
    "version": 3
   },
   "file_extension": ".py",
   "mimetype": "text/x-python",
   "name": "python",
   "nbconvert_exporter": "python",
   "pygments_lexer": "ipython3",
   "version": "3.12.7"
  }
 },
 "nbformat": 4,
 "nbformat_minor": 5
}
